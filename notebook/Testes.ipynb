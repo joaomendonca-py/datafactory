{
 "cells": [
  {
   "cell_type": "code",
   "execution_count": 0,
   "metadata": {
    "application/vnd.databricks.v1+cell": {
     "cellMetadata": {
      "byteLimit": 2048000,
      "rowLimit": 10000
     },
     "inputWidgets": {},
     "nuid": "b7b20818-f497-434b-aac1-dd0d68a315a6",
     "showTitle": false,
     "title": ""
    }
   },
   "outputs": [
    {
     "output_type": "stream",
     "name": "stdout",
     "output_type": "stream",
     "text": [
      "Teste de montagem do diretório bronze passou.\nTeste de montagem do diretório silver passou.\nTeste de montagem do diretório gold passou.\nTeste de integridade dos dados da camada bronze passou.\nTeste de integridade dos dados da camada silver passou.\nTeste de integridade dos dados da camada gold passou.\n"
     ]
    }
   ],
   "source": [
    "# Testes para o pipeline no Databricks\n",
    "\n",
    "# Função para testar a montagem dos diretórios\n",
    "def test_mount_directory(mount_point):\n",
    "    \"\"\"Verifica se o diretório está montado.\"\"\"\n",
    "    mounted_points = [mount.mountPoint for mount in dbutils.fs.mounts()]\n",
    "    assert mount_point in mounted_points, f\"O diretório {mount_point} não está montado.\"\n",
    "\n",
    "# Função para testar a integridade dos dados na camada bronze\n",
    "def test_bronze_data_integrity():\n",
    "    \"\"\"Verifica se os dados na camada bronze estão corretos.\"\"\"\n",
    "    with open('/dbfs/mnt/bronze/breweries_raw.json', 'r') as f:\n",
    "        data = json.load(f)\n",
    "        assert isinstance(data, list), \"Os dados na camada bronze não estão no formato esperado (lista).\"\n",
    "        assert len(data) > 0, \"Os dados na camada bronze estão vazios.\"\n",
    "\n",
    "# Função para testar a integridade dos dados na camada silver\n",
    "def test_silver_data_integrity():\n",
    "    \"\"\"Verifica se os dados na camada silver estão corretos.\"\"\"\n",
    "    df_silver = spark.read.format(\"delta\").load(\"/mnt/silver/breweries\")\n",
    "    assert df_silver is not None, \"O DataFrame da camada silver está vazio.\"\n",
    "    assert df_silver.count() > 0, \"A camada silver não possui registros.\"\n",
    "\n",
    "# Função para testar a integridade dos dados na camada gold\n",
    "def test_gold_data_integrity():\n",
    "    \"\"\"Verifica se os dados na camada gold estão corretos.\"\"\"\n",
    "    df_gold = spark.read.format(\"delta\").load(\"/mnt/gold/breweries\")\n",
    "    assert df_gold is not None, \"O DataFrame da camada gold está vazio.\"\n",
    "    assert df_gold.count() > 0, \"A camada gold não possui registros.\"\n",
    "\n",
    "# Executar os testes\n",
    "try:\n",
    "    test_mount_directory(\"/mnt/bronze\")\n",
    "    print(\"Teste de montagem do diretório bronze passou.\")\n",
    "\n",
    "    test_mount_directory(\"/mnt/silver\")\n",
    "    print(\"Teste de montagem do diretório silver passou.\")\n",
    "\n",
    "    test_mount_directory(\"/mnt/gold\")\n",
    "    print(\"Teste de montagem do diretório gold passou.\")\n",
    "\n",
    "    test_bronze_data_integrity()\n",
    "    print(\"Teste de integridade dos dados da camada bronze passou.\")\n",
    "\n",
    "    test_silver_data_integrity()\n",
    "    print(\"Teste de integridade dos dados da camada silver passou.\")\n",
    "\n",
    "    test_gold_data_integrity()\n",
    "    print(\"Teste de integridade dos dados da camada gold passou.\")\n",
    "\n",
    "except AssertionError as e:\n",
    "    print(f\"Erro no teste: {e}\")\n"
   ]
  }
 ],
 "metadata": {
  "application/vnd.databricks.v1+notebook": {
   "dashboards": [],
   "environmentMetadata": null,
   "language": "python",
   "notebookMetadata": {
    "pythonIndentUnit": 4
   },
   "notebookName": "Testes",
   "widgets": {}
  }
 },
 "nbformat": 4,
 "nbformat_minor": 0
}
