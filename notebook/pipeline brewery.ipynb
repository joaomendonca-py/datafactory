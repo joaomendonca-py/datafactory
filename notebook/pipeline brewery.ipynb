{
 "cells": [
  {
   "cell_type": "code",
   "execution_count": 0,
   "metadata": {
    "application/vnd.databricks.v1+cell": {
     "cellMetadata": {
      "byteLimit": 2048000,
      "rowLimit": 10000
     },
     "inputWidgets": {},
     "nuid": "bd844b96-9441-4870-84ed-42aaa83bc144",
     "showTitle": false,
     "title": ""
    }
   },
   "outputs": [
    {
     "output_type": "stream",
     "name": "stdout",
     "output_type": "stream",
     "text": [
      "O diretório já está montado.\n"
     ]
    }
   ],
   "source": [
    "#bronze\n",
    "import os\n",
    "\n",
    "# Acessar as variáveis de ambiente\n",
    "storage_account_name = os.getenv(\"AZURE_STORAGE_ACCOUNT_NAME\")\n",
    "storage_account_key = os.getenv(\"AZURE_STORAGE_KEY\")\n",
    "\n",
    "# Montar o Blob Storage ou Data Lake\n",
    "if \"/mnt/bronze\" not in [mount.mountPoint for mount in dbutils.fs.mounts()]:\n",
    "    dbutils.fs.mount(\n",
    "        source = f\"wasbs://bronze@brewerydatalake.blob.core.windows.net/\",\n",
    "        mount_point = \"/mnt/bronze\",\n",
    "        extra_configs = {f\"fs.azure.account.key.brewerydatalake.blob.core.windows.net\": storage_account_key}\n",
    "    )\n",
    "else:\n",
    "    print(\"O diretório já está montado.\")\n"
   ]
  },
  {
   "cell_type": "code",
   "execution_count": 0,
   "metadata": {
    "application/vnd.databricks.v1+cell": {
     "cellMetadata": {
      "byteLimit": 2048000,
      "rowLimit": 10000
     },
     "inputWidgets": {},
     "nuid": "60b3b5f1-aadc-4926-a20b-a8b2571d0118",
     "showTitle": false,
     "title": ""
    }
   },
   "outputs": [
    {
     "output_type": "display_data",
     "data": {
      "text/html": [
       "<style scoped>\n",
       "  .table-result-container {\n",
       "    max-height: 300px;\n",
       "    overflow: auto;\n",
       "  }\n",
       "  table, th, td {\n",
       "    border: 1px solid black;\n",
       "    border-collapse: collapse;\n",
       "  }\n",
       "  th, td {\n",
       "    padding: 5px;\n",
       "  }\n",
       "  th {\n",
       "    text-align: left;\n",
       "  }\n",
       "</style><div class='table-result-container'><table class='table-result'><thead style='background-color: white'><tr><th>path</th><th>name</th><th>size</th><th>modificationTime</th></tr></thead><tbody><tr><td>dbfs:/mnt/bronze/breweries_raw.json</td><td>breweries_raw.json</td><td>22375</td><td>1729413585000</td></tr></tbody></table></div>"
      ]
     },
     "metadata": {
      "application/vnd.databricks.v1+output": {
       "addedWidgets": {},
       "aggData": [],
       "aggError": "",
       "aggOverflow": false,
       "aggSchema": [],
       "aggSeriesLimitReached": false,
       "aggType": "",
       "arguments": {},
       "columnCustomDisplayInfos": {},
       "data": [
        [
         "dbfs:/mnt/bronze/breweries_raw.json",
         "breweries_raw.json",
         22375,
         1729413585000
        ]
       ],
       "datasetInfos": [],
       "dbfsResultPath": null,
       "isJsonSchema": true,
       "metadata": {},
       "overflow": false,
       "plotOptions": {
        "customPlotOptions": {},
        "displayType": "table",
        "pivotAggregation": null,
        "pivotColumns": null,
        "xColumns": null,
        "yColumns": null
       },
       "removedWidgets": [],
       "schema": [
        {
         "metadata": "{}",
         "name": "path",
         "type": "\"string\""
        },
        {
         "metadata": "{}",
         "name": "name",
         "type": "\"string\""
        },
        {
         "metadata": "{}",
         "name": "size",
         "type": "\"long\""
        },
        {
         "metadata": "{}",
         "name": "modificationTime",
         "type": "\"long\""
        }
       ],
       "type": "table"
      }
     },
     "output_type": "display_data"
    }
   ],
   "source": [
    "display(dbutils.fs.ls(\"/mnt/bronze\"))\n"
   ]
  },
  {
   "cell_type": "code",
   "execution_count": 0,
   "metadata": {
    "application/vnd.databricks.v1+cell": {
     "cellMetadata": {
      "byteLimit": 2048000,
      "rowLimit": 10000
     },
     "inputWidgets": {},
     "nuid": "a59d8bc4-02f6-45c5-90e9-5c1057ffd34a",
     "showTitle": false,
     "title": ""
    }
   },
   "outputs": [
    {
     "output_type": "stream",
     "name": "stdout",
     "output_type": "stream",
     "text": [
      "O diretório já está montado.\n"
     ]
    }
   ],
   "source": [
    "# silver\n",
    "import os\n",
    "\n",
    "# Acessar as variáveis de ambiente\n",
    "storage_account_name = os.getenv(\"AZURE_STORAGE_ACCOUNT_NAME\")\n",
    "storage_account_key = os.getenv(\"AZURE_STORAGE_KEY\")\n",
    "\n",
    "# Montar o Blob Storage ou Data Lake\n",
    "if \"/mnt/silver\" not in [mount.mountPoint for mount in dbutils.fs.mounts()]:\n",
    "    dbutils.fs.mount(\n",
    "        source = f\"wasbs://silver@brewerydatalake.blob.core.windows.net/\",\n",
    "        mount_point = \"/mnt/silver\",\n",
    "        extra_configs = {f\"fs.azure.account.key.brewerydatalake.blob.core.windows.net\": storage_account_key}\n",
    "    )\n",
    "else:\n",
    "    print(\"O diretório já está montado.\")"
   ]
  },
  {
   "cell_type": "code",
   "execution_count": 0,
   "metadata": {
    "application/vnd.databricks.v1+cell": {
     "cellMetadata": {
      "byteLimit": 2048000,
      "rowLimit": 10000
     },
     "inputWidgets": {},
     "nuid": "ce998fe5-e7f7-42aa-a55a-b66f35b9a16b",
     "showTitle": false,
     "title": ""
    }
   },
   "outputs": [
    {
     "output_type": "display_data",
     "data": {
      "text/html": [
       "<style scoped>\n",
       "  .table-result-container {\n",
       "    max-height: 300px;\n",
       "    overflow: auto;\n",
       "  }\n",
       "  table, th, td {\n",
       "    border: 1px solid black;\n",
       "    border-collapse: collapse;\n",
       "  }\n",
       "  th, td {\n",
       "    padding: 5px;\n",
       "  }\n",
       "  th {\n",
       "    text-align: left;\n",
       "  }\n",
       "</style><div class='table-result-container'><table class='table-result'><thead style='background-color: white'><tr><th>path</th><th>name</th><th>size</th><th>modificationTime</th></tr></thead><tbody><tr><td>dbfs:/mnt/silver/breweries/</td><td>breweries/</td><td>0</td><td>0</td></tr></tbody></table></div>"
      ]
     },
     "metadata": {
      "application/vnd.databricks.v1+output": {
       "addedWidgets": {},
       "aggData": [],
       "aggError": "",
       "aggOverflow": false,
       "aggSchema": [],
       "aggSeriesLimitReached": false,
       "aggType": "",
       "arguments": {},
       "columnCustomDisplayInfos": {},
       "data": [
        [
         "dbfs:/mnt/silver/breweries/",
         "breweries/",
         0,
         0
        ]
       ],
       "datasetInfos": [],
       "dbfsResultPath": null,
       "isJsonSchema": true,
       "metadata": {},
       "overflow": false,
       "plotOptions": {
        "customPlotOptions": {},
        "displayType": "table",
        "pivotAggregation": null,
        "pivotColumns": null,
        "xColumns": null,
        "yColumns": null
       },
       "removedWidgets": [],
       "schema": [
        {
         "metadata": "{}",
         "name": "path",
         "type": "\"string\""
        },
        {
         "metadata": "{}",
         "name": "name",
         "type": "\"string\""
        },
        {
         "metadata": "{}",
         "name": "size",
         "type": "\"long\""
        },
        {
         "metadata": "{}",
         "name": "modificationTime",
         "type": "\"long\""
        }
       ],
       "type": "table"
      }
     },
     "output_type": "display_data"
    }
   ],
   "source": [
    "display(dbutils.fs.ls(\"/mnt/silver\"))\n"
   ]
  },
  {
   "cell_type": "code",
   "execution_count": 0,
   "metadata": {
    "application/vnd.databricks.v1+cell": {
     "cellMetadata": {
      "byteLimit": 2048000,
      "rowLimit": 10000
     },
     "inputWidgets": {},
     "nuid": "41585104-87e5-48fe-a089-526ae79d2f99",
     "showTitle": false,
     "title": ""
    }
   },
   "outputs": [
    {
     "output_type": "stream",
     "name": "stdout",
     "output_type": "stream",
     "text": [
      "O diretório já está montado.\n"
     ]
    }
   ],
   "source": [
    "# gold\n",
    "\n",
    "import os\n",
    "\n",
    "# Acessar as variáveis de ambiente\n",
    "storage_account_name = os.getenv(\"AZURE_STORAGE_ACCOUNT_NAME\")\n",
    "storage_account_key = os.getenv(\"AZURE_STORAGE_KEY\")\n",
    "\n",
    "# Montar o Blob Storage ou Data Lake\n",
    "if \"/mnt/gold\" not in [mount.mountPoint for mount in dbutils.fs.mounts()]:\n",
    "    dbutils.fs.mount(\n",
    "        source = f\"wasbs://gold@brewerydatalake.blob.core.windows.net/\",\n",
    "        mount_point = \"/mnt/gold\",\n",
    "        extra_configs = {f\"fs.azure.account.key.brewerydatalake.blob.core.windows.net\": storage_account_key}\n",
    "    )\n",
    "else:\n",
    "    print(\"O diretório já está montado.\")\n",
    "\n"
   ]
  },
  {
   "cell_type": "code",
   "execution_count": 0,
   "metadata": {
    "application/vnd.databricks.v1+cell": {
     "cellMetadata": {
      "byteLimit": 2048000,
      "rowLimit": 10000
     },
     "inputWidgets": {},
     "nuid": "387a4a62-93ae-402c-9ec2-d40c2e789f09",
     "showTitle": false,
     "title": ""
    }
   },
   "outputs": [],
   "source": [
    "import requests\n",
    "import json\n",
    "\n",
    "# Requisição para a API Open Brewery DB\n",
    "url = \"https://api.openbrewerydb.org/breweries\"\n",
    "response = requests.get(url)\n",
    "data = response.json()\n",
    "\n",
    "# Salvar os dados brutos como JSON na camada bronze\n",
    "with open('/dbfs/mnt/bronze/breweries_raw.json', 'w') as f:\n",
    "    json.dump(data, f)\n"
   ]
  },
  {
   "cell_type": "code",
   "execution_count": 0,
   "metadata": {
    "application/vnd.databricks.v1+cell": {
     "cellMetadata": {
      "byteLimit": 2048000,
      "rowLimit": 10000
     },
     "inputWidgets": {},
     "nuid": "3cdf4b37-56ff-4346-a21b-8d064f76b010",
     "showTitle": false,
     "title": ""
    }
   },
   "outputs": [],
   "source": [
    "# Ler os dados da camada bronze\n",
    "df_bronze = spark.read.json(\"/mnt/bronze/breweries_raw.json\")\n",
    "\n",
    "# Aplicar transformações\n",
    "df_silver = df_bronze.filter(df_bronze[\"brewery_type\"].isNotNull()) \\\n",
    "                     .withColumn(\"latitude\", df_bronze[\"latitude\"].cast(\"double\")) \\\n",
    "                     .withColumn(\"longitude\", df_bronze[\"longitude\"].cast(\"double\"))\n",
    "\n",
    "# Dropar a tabela existente se necessário\n",
    "spark.sql(\"DROP TABLE IF EXISTS pipelinedatabricks.brewery.silver_breweries\")\n",
    "\n",
    "# Salvar em formato Delta e particionar por localização (estado ou cidade)\n",
    "df_silver.write.format(\"delta\").mode(\"overwrite\").partitionBy(\"state_province\").save(\"/mnt/silver/breweries\")\n",
    "\n",
    "# Criar a tabela silver no Databricks\n",
    "df_silver.write.format(\"delta\").mode(\"overwrite\").saveAsTable(\"pipelinedatabricks.brewery.silver_breweries\")\n",
    "\n"
   ]
  },
  {
   "cell_type": "code",
   "execution_count": 0,
   "metadata": {
    "application/vnd.databricks.v1+cell": {
     "cellMetadata": {
      "byteLimit": 2048000,
      "rowLimit": 10000
     },
     "inputWidgets": {},
     "nuid": "6ff2b3ee-73c0-4800-b09c-85d4ce83d28b",
     "showTitle": false,
     "title": ""
    }
   },
   "outputs": [],
   "source": [
    "# Ler os dados da camada silver\n",
    "df_silver = spark.read.format(\"delta\").load(\"/mnt/silver/breweries\")\n",
    "\n",
    "# Realizar a agregação (contagem de cervejarias por tipo e localização)\n",
    "df_gold = df_silver.groupBy(\"state_province\", \"brewery_type\").count()\n",
    "\n",
    "# Dropar a tabela existente se necessário\n",
    "spark.sql(\"DROP TABLE IF EXISTS pipelinedatabricks.brewery.gold_breweries\")\n",
    "\n",
    "# Salvar os dados agregados na camada gold\n",
    "df_gold.write.format(\"delta\").mode(\"overwrite\").save(\"/mnt/gold/breweries\")\n",
    "\n",
    "# Criar a tabela gold no Databricks\n",
    "df_gold.write.format(\"delta\").mode(\"overwrite\").saveAsTable(\"pipelinedatabricks.brewery.gold_breweries\")\n",
    "\n",
    "\n",
    "\n",
    "\n"
   ]
  },
  {
   "cell_type": "code",
   "execution_count": 0,
   "metadata": {
    "application/vnd.databricks.v1+cell": {
     "cellMetadata": {
      "byteLimit": 2048000,
      "rowLimit": 10000
     },
     "inputWidgets": {},
     "nuid": "85e29769-9f95-4a55-a716-4b232bf56ace",
     "showTitle": false,
     "title": ""
    }
   },
   "outputs": [
    {
     "output_type": "stream",
     "name": "stdout",
     "output_type": "stream",
     "text": [
      "+--------------------+---------+---------+------------+--------------+-------------+--------------------+-----------------+------------------+--------------------+----------+-----------+----------+--------------+--------------------+--------------------+\n|           address_1|address_2|address_3|brewery_type|          city|      country|                  id|         latitude|         longitude|                name|     phone|postal_code|     state|state_province|              street|         website_url|\n+--------------------+---------+---------+------------+--------------+-------------+--------------------+-----------------+------------------+--------------------+----------+-----------+----------+--------------+--------------------+--------------------+\n|      1716 Topeka St|     NULL|     NULL|       micro|        Norman|United States|5128df48-79fc-4f0...|      35.25738891|      -97.46818222|    (405) Brewing Co|4058160490| 73069-8224|  Oklahoma|      Oklahoma|      1716 Topeka St|http://www.405bre...|\n|407 Radam Ln Ste ...|     NULL|     NULL|       micro|        Austin|United States|9c5a66c8-cc13-416...|             NULL|              NULL|    (512) Brewing Co|5129211545| 78745-1197|     Texas|         Texas|407 Radam Ln Ste ...|http://www.512bre...|\n| 8100 Washington Ave|     NULL|     NULL|       micro|Mount Pleasant|United States|34e8c68b-6146-453...|42.72010826899558|-87.88336350209435|1 of Us Brewing C...|2624847553| 53406-3920| Wisconsin|     Wisconsin| 8100 Washington Ave|https://www.1ofus...|\n|           1501 E St|     NULL|     NULL|       large|     San Diego|United States|ef970757-fe42-416...|        32.714813|       -117.129593|10 Barrel Brewing Co|6195782311| 92101-6618|California|    California|           1501 E St| http://10barrel.com|\n|       62970 18th St|     NULL|     NULL|       large|          Bend|United States|6d14b220-8926-452...|      44.08683531|       -121.281706|10 Barrel Brewing Co|5415851007| 97701-9847|    Oregon|        Oregon|       62970 18th St|http://www.10barr...|\n|1135 NW Galveston...|     NULL|     NULL|       large|          Bend|United States|e2e78bd8-80ff-4a6...|       44.0575649|      -121.3288021|10 Barrel Brewing Co|5415851007| 97703-2465|    Oregon|        Oregon|1135 NW Galveston...|                NULL|\n| 1411 NW Flanders St|     NULL|     NULL|       large|      Portland|United States|e432899b-7f58-455...|       45.5259786|      -122.6855056|10 Barrel Brewing Co|5032241700| 97209-2620|    Oregon|        Oregon| 1411 NW Flanders St|http://www.10barr...|\n|    62950 NE 18th St|     NULL|     NULL|       large|          Bend|United States|9f1852da-c312-42d...|       44.0912109|      -121.2809536|10 Barrel Brewing...|5415851007|      97701|    Oregon|        Oregon|    62950 NE 18th St|                NULL|\n|    826 W Bannock St|     NULL|     NULL|       large|         Boise|United States|ea4f30c0-bce6-416...|        43.618516|       -116.202929|10 Barrel Brewing...|2083445870| 83702-5857|     Idaho|         Idaho|    826 W Bannock St|http://www.10barr...|\n|      2620 Walnut St|     NULL|     NULL|       large|        Denver|United States|1988eb86-f0a2-467...|       39.7592508|      -104.9853655|10 Barrel Brewing...|7205738992| 80205-2231|  Colorado|      Colorado|      2620 Walnut St|                NULL|\n+--------------------+---------+---------+------------+--------------+-------------+--------------------+-----------------+------------------+--------------------+----------+-----------+----------+--------------+--------------------+--------------------+\nonly showing top 10 rows\n\n"
     ]
    }
   ],
   "source": [
    "# Ler os dados da camada bronze\n",
    "df_bronze = spark.read.json(\"/mnt/bronze/breweries_raw.json\")\n",
    "\n",
    "# Exibir uma amostra dos dados\n",
    "df_bronze.show(10)\n"
   ]
  },
  {
   "cell_type": "code",
   "execution_count": 0,
   "metadata": {
    "application/vnd.databricks.v1+cell": {
     "cellMetadata": {
      "byteLimit": 2048000,
      "rowLimit": 10000
     },
     "inputWidgets": {},
     "nuid": "dd6312bc-d6db-40e8-a319-affe2784e315",
     "showTitle": false,
     "title": ""
    }
   },
   "outputs": [
    {
     "output_type": "stream",
     "name": "stdout",
     "output_type": "stream",
     "text": [
      "+--------------------+---------+---------+------------+----------------+-------------+--------------------+-----------+------------+--------------------+----------+-----------+----------+--------------+--------------------+--------------------+\n|           address_1|address_2|address_3|brewery_type|            city|      country|                  id|   latitude|   longitude|                name|     phone|postal_code|     state|state_province|              street|         website_url|\n+--------------------+---------+---------+------------+----------------+-------------+--------------------+-----------+------------+--------------------+----------+-----------+----------+--------------+--------------------+--------------------+\n|           1501 E St|     NULL|     NULL|       large|       San Diego|United States|ef970757-fe42-416...|  32.714813| -117.129593|10 Barrel Brewing Co|6195782311| 92101-6618|California|    California|           1501 E St| http://10barrel.com|\n| 1304 Scott St Ste D|     NULL|     NULL|      closed|        Petaluma|United States|5ae467af-66dc-4d7...|38.27029381| -122.665055|101 North Brewing...|7077534934| 94954-7100|California|    California| 1304 Scott St Ste D|http://www.101nor...|\n|31125 Via Colinas...|     NULL|     NULL|       micro|Westlake Village|United States|4788221a-a03b-458...|   34.15334| -118.802397|14 Cannons Brewin...|8186996165| 91362-3974|California|    California|31125 Via Colinas...|http://14cannons.com|\n|                NULL|     NULL|     NULL|       micro|        Mariposa|United States|fe6b9893-b93e-43d...|  37.570148|-119.9036592|1850 Brewing Company|      NULL|      95338|California|    California|                NULL|http://www.1850re...|\n|      2620 Walnut St|     NULL|     NULL|       large|          Denver|United States|1988eb86-f0a2-467...| 39.7592508|-104.9853655|10 Barrel Brewing...|7205738992| 80205-2231|  Colorado|      Colorado|      2620 Walnut St|                NULL|\n|        1043 Park St|     NULL|     NULL|       micro|     Castle Rock|United States|4ffda196-dd59-44a...|39.38269495|-104.8667206| 105 West Brewing Co|3033257321| 80109-1585|  Colorado|      Colorado|        1043 Park St|http://www.105wes...|\n|         820 Main St|     NULL|     NULL|     brewpub|      Louisville|United States|06e9fffb-e820-45c...| 39.9782443|-105.1319826|    12Degree Brewing|3035791004| 80027-1865|  Colorado|      Colorado|         820 Main St|http://www.12degr...|\n|      2801 Walnut St|     NULL|     NULL|  proprietor|          Denver|United States|4b677b60-fef1-42e...| 39.7614112|-104.9839636|14er Brewing Company|7207731437| 80205-2235|  Colorado|      Colorado|      2801 Walnut St|http://www.14erBr...|\n|3000 E Ray Rd Bldg 6|     NULL|     NULL|       micro|         Gilbert|United States|fb94830f-6196-4f5...|       NULL|        NULL|12 West Brewing C...|6023395014| 85296-7832|   Arizona|       Arizona|3000 E Ray Rd Bldg 6|http://www.12west...|\n|                NULL|     NULL|     NULL|       micro|            Mesa|United States|0faa0fb2-fffa-416...|  33.436188|-111.5860662|12 West Brewing C...|      NULL|      85207|   Arizona|       Arizona|                NULL|                NULL|\n+--------------------+---------+---------+------------+----------------+-------------+--------------------+-----------+------------+--------------------+----------+-----------+----------+--------------+--------------------+--------------------+\nonly showing top 10 rows\n\n"
     ]
    }
   ],
   "source": [
    "# Ler os dados da camada silver\n",
    "df_silver = spark.read.format(\"delta\").load(\"/mnt/silver/breweries\")\n",
    "\n",
    "# Exibir uma amostra dos dados transformados\n",
    "df_silver.show(10)\n"
   ]
  },
  {
   "cell_type": "code",
   "execution_count": 0,
   "metadata": {
    "application/vnd.databricks.v1+cell": {
     "cellMetadata": {
      "byteLimit": 2048000,
      "rowLimit": 10000
     },
     "inputWidgets": {},
     "nuid": "9ba7a83e-7f8c-4468-a9c7-9a151af42790",
     "showTitle": false,
     "title": ""
    }
   },
   "outputs": [
    {
     "output_type": "stream",
     "name": "stdout",
     "output_type": "stream",
     "text": [
      "+--------------+------------+-----+\n|state_province|brewery_type|count|\n+--------------+------------+-----+\n|    California|       micro|    2|\n|        Oregon|       large|    4|\n|    California|       large|    1|\n|      Colorado|     brewpub|    1|\n| Massachusetts|       micro|    1|\n|      Colorado|  proprietor|    1|\n|       Indiana|       micro|    3|\n|       Arizona|       micro|    3|\n|      Colorado|       micro|    1|\n|      Colorado|       large|    1|\n+--------------+------------+-----+\nonly showing top 10 rows\n\n"
     ]
    }
   ],
   "source": [
    "# Ler os dados agregados da camada gold\n",
    "df_gold = spark.read.format(\"delta\").load(\"/mnt/gold/breweries\")\n",
    "\n",
    "# Exibir uma amostra dos dados agregados\n",
    "df_gold.show(10)\n"
   ]
  }
 ],
 "metadata": {
  "application/vnd.databricks.v1+notebook": {
   "dashboards": [],
   "environmentMetadata": null,
   "language": "python",
   "notebookMetadata": {
    "pythonIndentUnit": 4
   },
   "notebookName": "pipeline brewery",
   "widgets": {}
  }
 },
 "nbformat": 4,
 "nbformat_minor": 0
}
